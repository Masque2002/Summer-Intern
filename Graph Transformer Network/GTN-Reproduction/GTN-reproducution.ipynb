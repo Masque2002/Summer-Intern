{
 "cells": [
  {
   "cell_type": "markdown",
   "metadata": {
    "pycharm": {
     "name": "#%% md\n"
    }
   },
   "source": [
    "# Preparing work"
   ]
  },
  {
   "cell_type": "markdown",
   "metadata": {
    "pycharm": {
     "name": "#%% md\n"
    }
   },
   "source": [
    "It includes hyper-parameters setting and data processing.\n",
    "\n",
    "It is worth mentioning that the original data ACM.mat is from a paper that talks about HAN, the author provides a notebook of preprocessing data and has thoughtfully processed it, and the results are placed in data/ACM.\n",
    "\n",
    "The dataset used for this reproduction is the ACM dataset, which contains 8994 points and 25922 edges, with three node types and four edge types, and the node feature dimension is 1902 dimensions. There are a total of 3025 labeled nodes, of which 600 are divided into training set, 300 are validation set, and 2125 are test set."
   ]
  },
  {
   "cell_type": "code",
   "execution_count": 1,
   "metadata": {
    "pycharm": {
     "name": "#%%\n"
    }
   },
   "outputs": [],
   "source": [
    "import torch\n",
    "import numpy as np\n",
    "import matplotlib.pyplot as plt\n",
    "import torch.nn as nn\n",
    "import pickle\n",
    "import torch.nn.functional as F\n",
    "import math\n",
    "import time"
   ]
  },
  {
   "cell_type": "code",
   "execution_count": 2,
   "metadata": {
    "pycharm": {
     "name": "#%%\n"
    }
   },
   "outputs": [],
   "source": [
    "# import data\n",
    "with open('data/ACM/node_features.pkl', 'rb') as f:\n",
    "    node_features = pickle.load(f)  # (8994, 1902)\n",
    "with open('data/ACM/edges.pkl', 'rb') as f:  # Adjacency matrix of heterogeneous graphs\n",
    "    edges = pickle.load(f)\n",
    "with open('data/ACM/labels.pkl', 'rb') as f:\n",
    "    labels = pickle.load(f)\n",
    "num_nodes = edges[0].shape[0]\n",
    "# The length of each adjacency matrix edge is the total number of nodes \n",
    "# There are four kinds of edges so there are four edges of the adjacency matrix. len(edges) == 4\n",
    "# len(labels) == 3 including train/valid/test there are only 3025 labels in total "
   ]
  },
  {
   "cell_type": "code",
   "execution_count": 3,
   "metadata": {
    "pycharm": {
     "name": "#%%\n"
    }
   },
   "outputs": [],
   "source": [
    "# combine edges into one tensor\n",
    "for i, edge in enumerate(edges):\n",
    "    if i == 0:\n",
    "        A = torch.from_numpy(edge.todense()).type(torch.FloatTensor).unsqueeze(-1)\n",
    "    else:\n",
    "        tmp = torch.from_numpy(edge.todense()).type(torch.FloatTensor).unsqueeze(-1)\n",
    "        A = torch.cat([A, tmp], dim=-1)\n",
    "A = torch.cat([A, torch.eye(num_nodes).type(torch.FloatTensor).unsqueeze(-1)], dim=-1)\n",
    "\n",
    "node_features = torch.from_numpy(node_features).type(torch.FloatTensor)\n",
    "train_node = torch.from_numpy(np.array(labels[0][:, 0])).type(torch.LongTensor)\n",
    "train_target = torch.from_numpy(np.array(labels[0])[:, 1]).type(torch.LongTensor)\n",
    "valid_node = torch.from_numpy(np.array(labels[1])[:, 0]).type(torch.LongTensor)\n",
    "valid_target = torch.from_numpy(np.array(labels[1])[:, 1]).type(torch.LongTensor)\n",
    "test_node = torch.from_numpy(np.array(labels[2])[:, 0]).type(torch.LongTensor)\n",
    "test_target = torch.from_numpy(np.array(labels[2])[:, 1]).type(torch.LongTensor)"
   ]
  },
  {
   "cell_type": "code",
   "execution_count": 4,
   "metadata": {
    "pycharm": {
     "name": "#%%\n"
    }
   },
   "outputs": [
    {
     "name": "stdout",
     "output_type": "stream",
     "text": [
      "A shape:  torch.Size([8994, 8994, 5])\n",
      "node_features shape: torch.Size([8994, 1902])\n",
      "train_node shape: torch.Size([600])\n",
      "valid_node.shape: torch.Size([300])\n",
      "test_node.shape torch.Size([2125])\n"
     ]
    }
   ],
   "source": [
    "# show data imformation\n",
    "print('A shape: ', A.shape)\n",
    "print('node_features shape:', node_features.shape)\n",
    "print('train_node shape:', train_node.shape)\n",
    "print('valid_node.shape:', valid_node.shape)\n",
    "print('test_node.shape', test_node.shape)"
   ]
  },
  {
   "cell_type": "code",
   "execution_count": 5,
   "metadata": {
    "pycharm": {
     "name": "#%%\n"
    }
   },
   "outputs": [],
   "source": [
    "# Hyper parameters\n",
    "epochs = 40\n",
    "node_dim = 64\n",
    "num_channels = 2\n",
    "lr = 0.005\n",
    "weight_decay = 0.001\n",
    "num_layers = 2\n",
    "norm = True\n",
    "num_classes = torch.max(train_target).item()+1"
   ]
  },
  {
   "cell_type": "code",
   "execution_count": null,
   "metadata": {},
   "outputs": [],
   "source": []
  },
  {
   "cell_type": "markdown",
   "metadata": {},
   "source": [
    "# Design Model"
   ]
  },
  {
   "cell_type": "markdown",
   "metadata": {},
   "source": [
    "Including model GTN, the key layer GTLayer, and convolution layer."
   ]
  },
  {
   "cell_type": "code",
   "execution_count": 6,
   "metadata": {},
   "outputs": [],
   "source": [
    "class GTN(nn.Module):\n",
    "\n",
    "    def __init__(self, num_edge, num_channels, w_in, w_out, num_class, num_layers, norm):\n",
    "        super(GTN, self).__init__()\n",
    "        self.num_edge = num_edge\n",
    "        self.num_channels = num_channels\n",
    "        self.w_in = w_in\n",
    "        self.w_out = w_out\n",
    "        self.num_class = num_class\n",
    "        self.num_layers = num_layers\n",
    "        self.is_norm = norm\n",
    "        layers = []\n",
    "        for i in range(num_layers):  # The layers are composed of multiple GTlayers, which means that the meta-path is aggregated two times.\n",
    "            if i == 0:\n",
    "                layers.append(GTLayer(num_edge, num_channels, first=True))  # First GTlayer\n",
    "            else:\n",
    "                layers.append(GTLayer(num_edge, num_channels, first=False))  # Second GTlayer\n",
    "        self.layers = nn.ModuleList(layers)  \n",
    "        self.weight = nn.Parameter(torch.Tensor(w_in, w_out))  # parameters of GCN\n",
    "        self.bias = nn.Parameter(torch.Tensor(w_out))\n",
    "        self.loss = nn.CrossEntropyLoss()\n",
    "        self.linear1 = nn.Linear(self.w_out * self.num_channels, self.w_out)  # Multi-channel (2*64, 64)\n",
    "        self.linear2 = nn.Linear(self.w_out, self.num_class)  # Final output\n",
    "        self.reset_parameters()\n",
    "\n",
    "    def reset_parameters(self):\n",
    "        nn.init.xavier_uniform_(self.weight)  # gloria initalization\n",
    "        nn.init.zeros_(self.bias)\n",
    "\n",
    "    def gcn_conv(self, X, H):\n",
    "        X = torch.mm(X, self.weight)\n",
    "        H = self.norm(H, add=True)  # set add as True here because in GCN we should let the adjacency matrix plus the identity matrix\n",
    "        return torch.mm(H.t(), X)\n",
    "\n",
    "    def normalization(self, H):\n",
    "        for i in range(self.num_channels):   # H: (2, 8994, 8994) To normalize each channel of H\n",
    "            if i == 0:\n",
    "                H_ = self.norm(H[i, :, :]).unsqueeze(0)   # normalize H[0]\n",
    "            else:\n",
    "                H_ = torch.cat((H_, self.norm(H[i, :, :]).unsqueeze(0)), dim=0)  # normalize H[1] and concat them\n",
    "        return H_\n",
    "\n",
    "    def norm(self, H, add=False):\n",
    "        H = H.t()\n",
    "        if add == False:\n",
    "            H = H * ((torch.eye(H.shape[0]) == 0).type(torch.FloatTensor))  # Here the value on the diagonal is removed, it represents self-connected edge\n",
    "        else:\n",
    "            H = H * ((torch.eye(H.shape[0]) == 0).type(torch.FloatTensor)) + torch.eye(H.shape[0]).type(\n",
    "                torch.FloatTensor)  # when data come into GCN, add should be set as True. Because in GCN we add identity matrix to adjacency matrix\n",
    "        deg = torch.sum(H, dim=1)  # shape: (8994,)\n",
    "        deg_inv = deg.pow(-1)  \n",
    "        deg_inv[deg_inv == float('inf')] = 0\n",
    "        deg_inv = deg_inv * torch.eye(H.shape[0]).type(torch.FloatTensor)  # D^(-1)\n",
    "        H = torch.mm(deg_inv, H)\n",
    "        H = H.t()\n",
    "        return H\n",
    "\n",
    "    def forward(self, A, X, target_x, target):\n",
    "        A = A.unsqueeze(0).permute(0, 3, 1, 2)  # set output channel (1, 8994, 8994, 5) -> (1, 5, 8994, 8994) \n",
    "        Ws = []\n",
    "        for i in range(self.num_layers):\n",
    "            if i == 0:\n",
    "                H, W = self.layers[i](A)\n",
    "            else:\n",
    "                H = self.normalization(H)  # normalize A : D-1 * A\n",
    "                H, W = self.layers[i](A, H)\n",
    "            Ws.append(W)  # Ws are parameters of convolution layer\n",
    "\n",
    "        for i in range(self.num_channels):  # do GCN to each channel\n",
    "            if i == 0:\n",
    "                X_ = F.relu(self.gcn_conv(X, H[i]))  # X is the node feature matrix\n",
    "            else:\n",
    "                X_tmp = F.relu(self.gcn_conv(X, H[i]))\n",
    "                X_ = torch.cat((X_, X_tmp), dim=1)\n",
    "        X_ = self.linear1(X_)\n",
    "        X_ = F.relu(X_)\n",
    "        y = self.linear2(X_[target_x])\n",
    "        loss = self.loss(y, target)\n",
    "        return loss, y, Ws"
   ]
  },
  {
   "cell_type": "code",
   "execution_count": 7,
   "metadata": {},
   "outputs": [],
   "source": [
    "class GTLayer(nn.Module):\n",
    "\n",
    "    def __init__(self, in_channels, out_channels, first=True):\n",
    "        super(GTLayer, self).__init__()\n",
    "        self.in_channels = in_channels\n",
    "        self.out_channels = out_channels\n",
    "        self.first = first\n",
    "        if self.first == True:  # Only the first layer has to be convolved twice\n",
    "            self.conv1 = GTConv(in_channels, out_channels)  # W1\n",
    "            self.conv2 = GTConv(in_channels, out_channels)  # W2\n",
    "        else:\n",
    "            self.conv1 = GTConv(in_channels, out_channels)  # W3\n",
    "\n",
    "    def forward(self, A, H_=None):\n",
    "        if self.first == True:\n",
    "            a = self.conv1(A)   # a.shape (2, 8994, 8994)\n",
    "            b = self.conv2(A)   # b.shape (2, 8994, 8994)\n",
    "            H = torch.bmm(a, b)  # do matrix multiplication to each channel\n",
    "            W = [(F.softmax(self.conv1.weight, dim=1)).detach(), (F.softmax(self.conv2.weight, dim=1)).detach()] \n",
    "        else:\n",
    "            a = self.conv1(A)\n",
    "            H = torch.bmm(H_, a)\n",
    "            W = [(F.softmax(self.conv1.weight, dim=1)).detach()]\n",
    "        return H, W"
   ]
  },
  {
   "cell_type": "code",
   "execution_count": 8,
   "metadata": {},
   "outputs": [],
   "source": [
    "class GTConv(nn.Module):\n",
    "\n",
    "    def __init__(self, in_channels, out_channels):\n",
    "        super(GTConv, self).__init__()\n",
    "        self.in_channels = in_channels\n",
    "        self.out_channels = out_channels\n",
    "        self.weight = nn.Parameter(torch.Tensor(out_channels, in_channels, 1, 1))  # The 1*1 convolution kernel plays the role of dimensionality reduction\n",
    "        self.bias = None\n",
    "        self.scale = nn.Parameter(torch.Tensor([0.1]), requires_grad=False)\n",
    "        self.reset_parameters()\n",
    "\n",
    "    def reset_parameters(self):\n",
    "        n = self.in_channels\n",
    "        nn.init.constant_(self.weight, 0.1)  # initialize parameter as a constant value\n",
    "        if self.bias is not None:\n",
    "            fan_in, _ = nn.init._calculate_fan_in_and_fan_out(self.weight)\n",
    "            bound = 1 / math.sqrt(fan_in)\n",
    "            nn.init.uniform_(self.bias, -bound, bound)\n",
    "\n",
    "    def forward(self, A):\n",
    "        '''\n",
    "        1. F.softmax(self.weight, dim=1) : do softmax to self.weight([2, 5, 1, 1])\n",
    "        2. A: [1, 5, 8994, 8994] * [2, 5, 1, 1] -> [2, 5, 8994, 8994]\n",
    "        3. sum: [2, 8994, 8994]\n",
    "        '''\n",
    "        A = torch.sum(A * F.softmax(self.weight, dim=1), dim=1)  # do softmax to K=5\n",
    "        return A"
   ]
  },
  {
   "cell_type": "code",
   "execution_count": null,
   "metadata": {},
   "outputs": [],
   "source": []
  },
  {
   "cell_type": "markdown",
   "metadata": {},
   "source": [
    "# Train Cycle"
   ]
  },
  {
   "cell_type": "markdown",
   "metadata": {},
   "source": [
    "Here are the main training cycles."
   ]
  },
  {
   "cell_type": "code",
   "execution_count": 9,
   "metadata": {},
   "outputs": [],
   "source": [
    "# Some evaluation functions\n",
    "def accuracy(pred, target):\n",
    "    return (pred == target).sum().item() / target.numel()\n",
    "\n",
    "def true_positive(pred, target, num_classes):\n",
    "    out = []\n",
    "    for i in range(num_classes):\n",
    "        out.append(((pred == i) & (target == i)).sum())\n",
    "\n",
    "    return torch.tensor(out)    \n",
    "\n",
    "def true_negative(pred, target, num_classes):\n",
    "    out = []\n",
    "    for i in range(num_classes):\n",
    "        out.append(((pred != i) & (target != i)).sum())\n",
    "\n",
    "    return torch.tensor(out)\n",
    "\n",
    "def false_positive(pred, target, num_classes):\n",
    "    out = []\n",
    "    for i in range(num_classes):\n",
    "        out.append(((pred == i) & (target != i)).sum())\n",
    "\n",
    "    return torch.tensor(out)\n",
    "\n",
    "def false_negative(pred, target, num_classes):\n",
    "    out = []\n",
    "    for i in range(num_classes):\n",
    "        out.append(((pred != i) & (target == i)).sum())\n",
    "\n",
    "    return torch.tensor(out)\n",
    "\n",
    "def precision(pred, target, num_classes):\n",
    "    tp = true_positive(pred, target, num_classes).to(torch.float)\n",
    "    fp = false_positive(pred, target, num_classes).to(torch.float)\n",
    "\n",
    "    out = tp / (tp + fp)\n",
    "    out[torch.isnan(out)] = 0\n",
    "\n",
    "    return out\n",
    "\n",
    "def recall(pred, target, num_classes):\n",
    "    tp = true_positive(pred, target, num_classes).to(torch.float)\n",
    "    fn = false_negative(pred, target, num_classes).to(torch.float)\n",
    "\n",
    "    out = tp / (tp + fn)\n",
    "    out[torch.isnan(out)] = 0\n",
    "\n",
    "    return out\n",
    "\n",
    "def f1_score(pred, target, num_classes):\n",
    "    prec = precision(pred, target, num_classes)\n",
    "    rec = recall(pred, target, num_classes)\n",
    "\n",
    "    score = 2 * (prec * rec) / (prec + rec)\n",
    "    score[torch.isnan(score)] = 0\n",
    "\n",
    "    return score\n",
    "\n",
    "def time_since(since):\n",
    "    s = time.time() - since\n",
    "    m = math.floor(s / 60)\n",
    "    s -= m * 60\n",
    "    return '%dm %ds' % (m, s)"
   ]
  },
  {
   "cell_type": "code",
   "execution_count": 10,
   "metadata": {},
   "outputs": [],
   "source": [
    "final_f1 = 0\n",
    "model = GTN(num_edge=A.shape[-1],  # edge types 4+1\n",
    "            num_channels=num_channels,\n",
    "            w_in=node_features.shape[1],  # dimension of node features: 1902\n",
    "            w_out=node_dim,  # hidden output dimension 64\n",
    "            num_class=num_classes,\n",
    "            num_layers=num_layers,  # num of layer\n",
    "            norm=norm)\n",
    "\n",
    "optimizer = torch.optim.Adam([{'params': model.weight},\n",
    "                              {'params': model.linear1.parameters()},\n",
    "                              {'params': model.linear2.parameters()},\n",
    "                              {\"params\": model.layers.parameters(), \"lr\": 0.5}\n",
    "                              ], lr=0.005, weight_decay=0.001)\n",
    "loss = nn.CrossEntropyLoss()\n",
    "\n",
    "# Train & Valid & Test\n",
    "best_val_loss = 10000\n",
    "best_test_loss = 10000\n",
    "best_train_loss = 10000\n",
    "best_train_f1 = 0\n",
    "best_val_f1 = 0\n",
    "best_test_f1 = 0\n",
    "Train_Loss = []\n",
    "Valid_Loss = []\n",
    "Test_Loss = []\n",
    "Train_F1 = []\n",
    "Valid_F1 = []\n",
    "Test_F1 = []"
   ]
  },
  {
   "cell_type": "code",
   "execution_count": 11,
   "metadata": {},
   "outputs": [
    {
     "name": "stdout",
     "output_type": "stream",
     "text": [
      "Epoch:  1\n",
      "Train - Loss: 1.100663661956787, Macro_F1: 0.2082584649324417\n",
      "Valid - Loss: 1.0749962329864502, Macro_F1: 0.181062713265419\n",
      "Test - Loss: 1.0698298215866089, Macro_F1: 0.18833695352077484\n",
      "Epoch 1 takes time: 2m 16s\n",
      "\n",
      "Epoch:  2\n",
      "Train - Loss: 1.071734070777893, Macro_F1: 0.18067316710948944\n",
      "Valid - Loss: 1.0326855182647705, Macro_F1: 0.438032865524292\n",
      "Test - Loss: 1.0417729616165161, Macro_F1: 0.4145871698856354\n",
      "Epoch 2 takes time: 2m 14s\n",
      "\n",
      "Epoch:  3\n",
      "Train - Loss: 1.0241522789001465, Macro_F1: 0.4365426301956177\n",
      "Valid - Loss: 0.9507561326026917, Macro_F1: 0.7830908894538879\n",
      "Test - Loss: 0.9558172821998596, Macro_F1: 0.767535924911499\n",
      "Epoch 3 takes time: 2m 18s\n",
      "\n",
      "Epoch:  4\n",
      "Train - Loss: 0.9386520385742188, Macro_F1: 0.8302190899848938\n",
      "Valid - Loss: 0.8582612872123718, Macro_F1: 0.5709924697875977\n",
      "Test - Loss: 0.8620055913925171, Macro_F1: 0.5542786717414856\n",
      "Epoch 4 takes time: 2m 56s\n",
      "\n",
      "Epoch:  5\n",
      "Train - Loss: 0.8378991484642029, Macro_F1: 0.5561205148696899\n",
      "Valid - Loss: 0.7308017015457153, Macro_F1: 0.7452511191368103\n",
      "Test - Loss: 0.7432824969291687, Macro_F1: 0.7483413815498352\n",
      "Epoch 5 takes time: 2m 41s\n",
      "\n",
      "Epoch:  6\n",
      "Train - Loss: 0.7044337391853333, Macro_F1: 0.8321756720542908\n",
      "Valid - Loss: 0.6075132489204407, Macro_F1: 0.8360635638237\n",
      "Test - Loss: 0.6231408715248108, Macro_F1: 0.7932527661323547\n",
      "Epoch 6 takes time: 2m 30s\n",
      "\n",
      "Epoch:  7\n",
      "Train - Loss: 0.5700700283050537, Macro_F1: 0.856146514415741\n",
      "Valid - Loss: 0.479944109916687, Macro_F1: 0.9296149611473083\n",
      "Test - Loss: 0.5000472068786621, Macro_F1: 0.9045276641845703\n",
      "Epoch 7 takes time: 2m 29s\n",
      "\n",
      "Epoch:  8\n",
      "Train - Loss: 0.4434914290904999, Macro_F1: 0.9376551508903503\n",
      "Valid - Loss: 0.39342349767684937, Macro_F1: 0.9157065749168396\n",
      "Test - Loss: 0.41561394929885864, Macro_F1: 0.8893866539001465\n",
      "Epoch 8 takes time: 2m 26s\n",
      "\n",
      "Epoch:  9\n",
      "Train - Loss: 0.3522486686706543, Macro_F1: 0.937734067440033\n",
      "Valid - Loss: 0.35601943731307983, Macro_F1: 0.8563967347145081\n",
      "Test - Loss: 0.3878093659877777, Macro_F1: 0.8335608839988708\n",
      "Epoch 9 takes time: 2m 34s\n",
      "\n",
      "Epoch:  10\n",
      "Train - Loss: 0.29417601227760315, Macro_F1: 0.9059140682220459\n",
      "Valid - Loss: 0.3261919915676117, Macro_F1: 0.8615280985832214\n",
      "Test - Loss: 0.35516923666000366, Macro_F1: 0.8494263291358948\n",
      "Epoch 10 takes time: 2m 33s\n",
      "\n",
      "Epoch:  11\n",
      "Train - Loss: 0.2700732350349426, Macro_F1: 0.9064774513244629\n",
      "Valid - Loss: 0.2635659873485565, Macro_F1: 0.9060942530632019\n",
      "Test - Loss: 0.3068929612636566, Macro_F1: 0.8854970335960388\n",
      "Epoch 11 takes time: 2m 28s\n",
      "\n",
      "Epoch:  12\n",
      "Train - Loss: 0.19531187415122986, Macro_F1: 0.9430398344993591\n",
      "Valid - Loss: 0.2450302094221115, Macro_F1: 0.9096546769142151\n",
      "Test - Loss: 0.29043248295783997, Macro_F1: 0.8884735107421875\n",
      "Epoch 12 takes time: 2m 31s\n",
      "\n",
      "Epoch:  13\n",
      "Train - Loss: 0.16091595590114594, Macro_F1: 0.9514520764350891\n",
      "Valid - Loss: 0.2244633287191391, Macro_F1: 0.9161096215248108\n",
      "Test - Loss: 0.2627982795238495, Macro_F1: 0.9019437432289124\n",
      "Epoch 13 takes time: 2m 27s\n",
      "\n",
      "Epoch:  14\n",
      "Train - Loss: 0.1390218436717987, Macro_F1: 0.9598172307014465\n",
      "Valid - Loss: 0.20866936445236206, Macro_F1: 0.9201275706291199\n",
      "Test - Loss: 0.24750617146492004, Macro_F1: 0.9127522110939026\n",
      "Epoch 14 takes time: 2m 30s\n",
      "\n",
      "Epoch:  15\n",
      "Train - Loss: 0.10921098291873932, Macro_F1: 0.9733068943023682\n",
      "Valid - Loss: 0.21834398806095123, Macro_F1: 0.9208100438117981\n",
      "Test - Loss: 0.2636258602142334, Macro_F1: 0.9006805419921875\n",
      "Epoch 15 takes time: 2m 27s\n",
      "\n",
      "Epoch:  16\n",
      "Train - Loss: 0.09073611348867416, Macro_F1: 0.9699880480766296\n",
      "Valid - Loss: 0.2046126425266266, Macro_F1: 0.9333416819572449\n",
      "Test - Loss: 0.25436171889305115, Macro_F1: 0.907418966293335\n",
      "Epoch 16 takes time: 2m 28s\n",
      "\n",
      "Epoch:  17\n",
      "Train - Loss: 0.07600346207618713, Macro_F1: 0.9749811291694641\n",
      "Valid - Loss: 0.17153187096118927, Macro_F1: 0.9331762194633484\n",
      "Test - Loss: 0.21888703107833862, Macro_F1: 0.9247961640357971\n",
      "Epoch 17 takes time: 2m 29s\n",
      "\n",
      "Epoch:  18\n",
      "Train - Loss: 0.0606064610183239, Macro_F1: 0.9782821536064148\n",
      "Valid - Loss: 0.17195679247379303, Macro_F1: 0.9330982565879822\n",
      "Test - Loss: 0.21921353042125702, Macro_F1: 0.9259219169616699\n",
      "Epoch 18 takes time: 2m 22s\n",
      "\n",
      "Epoch:  19\n",
      "Train - Loss: 0.057314999401569366, Macro_F1: 0.9816574454307556\n",
      "Valid - Loss: 0.1707065999507904, Macro_F1: 0.9334562420845032\n",
      "Test - Loss: 0.21915040910243988, Macro_F1: 0.9216240048408508\n",
      "Epoch 19 takes time: 2m 26s\n",
      "\n",
      "Epoch:  20\n",
      "Train - Loss: 0.040470294654369354, Macro_F1: 0.9849976897239685\n",
      "Valid - Loss: 0.19539040327072144, Macro_F1: 0.9336369633674622\n",
      "Test - Loss: 0.24656942486763, Macro_F1: 0.9153647422790527\n",
      "Epoch 20 takes time: 2m 24s\n",
      "\n",
      "Epoch:  21\n",
      "Train - Loss: 0.03860237076878548, Macro_F1: 0.9883314967155457\n",
      "Valid - Loss: 0.19154128432273865, Macro_F1: 0.936968982219696\n",
      "Test - Loss: 0.24054493010044098, Macro_F1: 0.9186522364616394\n",
      "Epoch 21 takes time: 2m 30s\n",
      "\n",
      "Epoch:  22\n",
      "Train - Loss: 0.03017766959965229, Macro_F1: 0.989998996257782\n",
      "Valid - Loss: 0.1778886914253235, Macro_F1: 0.9368417859077454\n",
      "Test - Loss: 0.22173325717449188, Macro_F1: 0.9230734705924988\n",
      "Epoch 22 takes time: 2m 35s\n",
      "\n",
      "Epoch:  23\n",
      "Train - Loss: 0.022063758224248886, Macro_F1: 0.9950000643730164\n",
      "Valid - Loss: 0.1846419870853424, Macro_F1: 0.9400641322135925\n",
      "Test - Loss: 0.22503113746643066, Macro_F1: 0.9270910620689392\n",
      "Epoch 23 takes time: 2m 36s\n",
      "\n",
      "Epoch:  24\n",
      "Train - Loss: 0.021331068128347397, Macro_F1: 0.989998996257782\n",
      "Valid - Loss: 0.18651078641414642, Macro_F1: 0.9400641322135925\n",
      "Test - Loss: 0.2268715351819992, Macro_F1: 0.9248484969139099\n",
      "Epoch 24 takes time: 2m 25s\n",
      "\n",
      "Epoch:  25\n",
      "Train - Loss: 0.01440335437655449, Macro_F1: 0.9983332753181458\n",
      "Valid - Loss: 0.19330766797065735, Macro_F1: 0.9402633309364319\n",
      "Test - Loss: 0.2364131063222885, Macro_F1: 0.9218043684959412\n",
      "Epoch 25 takes time: 2m 24s\n",
      "\n",
      "Epoch:  26\n",
      "Train - Loss: 0.01093025878071785, Macro_F1: 1.0\n",
      "Valid - Loss: 0.20312434434890747, Macro_F1: 0.9369586110115051\n",
      "Test - Loss: 0.24804985523223877, Macro_F1: 0.921891987323761\n",
      "Epoch 26 takes time: 2m 26s\n",
      "\n",
      "Epoch:  27\n",
      "Train - Loss: 0.010714014992117882, Macro_F1: 1.0\n",
      "Valid - Loss: 0.20046366751194, Macro_F1: 0.9402633309364319\n",
      "Test - Loss: 0.24437060952186584, Macro_F1: 0.9222030639648438\n",
      "Epoch 27 takes time: 2m 24s\n",
      "\n",
      "Epoch:  28\n",
      "Train - Loss: 0.007618419360369444, Macro_F1: 1.0\n",
      "Valid - Loss: 0.19927068054676056, Macro_F1: 0.9434779286384583\n",
      "Test - Loss: 0.23999392986297607, Macro_F1: 0.9239614009857178\n",
      "Epoch 28 takes time: 2m 24s\n",
      "\n",
      "Epoch:  29\n",
      "Train - Loss: 0.005343716125935316, Macro_F1: 1.0\n",
      "Valid - Loss: 0.2069864720106125, Macro_F1: 0.9400641322135925\n",
      "Test - Loss: 0.2447308748960495, Macro_F1: 0.924229621887207\n",
      "Epoch 29 takes time: 2m 31s\n",
      "\n",
      "Epoch:  30\n",
      "Train - Loss: 0.0051612528041005135, Macro_F1: 1.0\n",
      "Valid - Loss: 0.2146565467119217, Macro_F1: 0.9333393573760986\n",
      "Test - Loss: 0.25122880935668945, Macro_F1: 0.9256057739257812\n",
      "Epoch 30 takes time: 2m 29s\n",
      "\n",
      "Epoch:  31\n",
      "Train - Loss: 0.005044468212872744, Macro_F1: 1.0\n",
      "Valid - Loss: 0.2155589759349823, Macro_F1: 0.9367045760154724\n",
      "Test - Loss: 0.25294849276542664, Macro_F1: 0.9256057739257812\n",
      "Epoch 31 takes time: 2m 25s\n",
      "\n",
      "Epoch:  32\n",
      "Train - Loss: 0.004023461136966944, Macro_F1: 1.0\n",
      "Valid - Loss: 0.21295353770256042, Macro_F1: 0.9401307702064514\n",
      "Test - Loss: 0.2527642548084259, Macro_F1: 0.9242503046989441\n",
      "Epoch 32 takes time: 2m 27s\n",
      "\n",
      "Epoch:  33\n",
      "Train - Loss: 0.0029685250483453274, Macro_F1: 1.0\n",
      "Valid - Loss: 0.21217158436775208, Macro_F1: 0.9401862025260925\n",
      "Test - Loss: 0.25535228848457336, Macro_F1: 0.9224381446838379\n",
      "Epoch 33 takes time: 2m 31s\n",
      "\n",
      "Epoch:  34\n",
      "Train - Loss: 0.002523678820580244, Macro_F1: 1.0\n",
      "Valid - Loss: 0.2144688367843628, Macro_F1: 0.936892569065094\n",
      "Test - Loss: 0.2607300579547882, Macro_F1: 0.9220693707466125\n",
      "Epoch 34 takes time: 2m 26s\n",
      "\n",
      "Epoch:  35\n",
      "Train - Loss: 0.0025476524606347084, Macro_F1: 1.0\n",
      "Valid - Loss: 0.21742601692676544, Macro_F1: 0.9402303695678711\n",
      "Test - Loss: 0.2652943730354309, Macro_F1: 0.9216430187225342\n",
      "Epoch 35 takes time: 2m 28s\n",
      "\n",
      "Epoch:  36\n",
      "Train - Loss: 0.00253936811350286, Macro_F1: 1.0\n",
      "Valid - Loss: 0.2187245637178421, Macro_F1: 0.936892569065094\n",
      "Test - Loss: 0.26645833253860474, Macro_F1: 0.9216160774230957\n",
      "Epoch 36 takes time: 2m 26s\n",
      "\n",
      "Epoch:  37\n",
      "Train - Loss: 0.0022024735808372498, Macro_F1: 1.0\n",
      "Valid - Loss: 0.21957944333553314, Macro_F1: 0.936892569065094\n"
     ]
    },
    {
     "name": "stdout",
     "output_type": "stream",
     "text": [
      "Test - Loss: 0.26575908064842224, Macro_F1: 0.9211236834526062\n",
      "Epoch 37 takes time: 2m 30s\n",
      "\n",
      "Epoch:  38\n",
      "Train - Loss: 0.0017697737785056233, Macro_F1: 1.0\n",
      "Valid - Loss: 0.22208213806152344, Macro_F1: 0.9401862025260925\n",
      "Test - Loss: 0.265968382358551, Macro_F1: 0.9233503937721252\n",
      "Epoch 38 takes time: 2m 34s\n",
      "\n",
      "Epoch:  39\n",
      "Train - Loss: 0.001509538502432406, Macro_F1: 1.0\n",
      "Valid - Loss: 0.22656098008155823, Macro_F1: 0.9401307702064514\n",
      "Test - Loss: 0.2680983245372772, Macro_F1: 0.9242545962333679\n",
      "Epoch 39 takes time: 2m 32s\n",
      "\n",
      "Epoch:  40\n",
      "Train - Loss: 0.0014398798812180758, Macro_F1: 1.0\n",
      "Valid - Loss: 0.231435626745224, Macro_F1: 0.9300605654716492\n",
      "Test - Loss: 0.2711946666240692, Macro_F1: 0.9232439398765564\n",
      "Epoch 40 takes time: 2m 34s\n",
      "\n",
      "---------------Best Results--------------------\n",
      "Train - Loss: 0.007618419360369444, Macro_F1: 1.0\n",
      "Valid - Loss: 0.19927068054676056, Macro_F1: 0.9434779286384583\n",
      "Test - Loss: 0.23999392986297607, Macro_F1: 0.9239614009857178\n"
     ]
    }
   ],
   "source": [
    "# Train cycle\n",
    "for i in range(epochs):\n",
    "    start = time.time()\n",
    "    for param_group in optimizer.param_groups:\n",
    "        if param_group['lr'] > 0.005:\n",
    "            param_group['lr'] = param_group['lr'] * 0.9\n",
    "    print('Epoch: ', i + 1)\n",
    "    model.zero_grad()\n",
    "    model.train()  # A (8994, 8994, 5)\n",
    "    loss, y_train, Ws = model(A, node_features, train_node, train_target)\n",
    "    train_f1 = torch.mean(\n",
    "        f1_score(torch.argmax(y_train.detach(), dim=1), train_target, num_classes=num_classes)).cpu().numpy()\n",
    "    print('Train - Loss: {}, Macro_F1: {}'.format(loss.detach().cpu().numpy(), train_f1))\n",
    "    Train_Loss.append(loss.item())\n",
    "    Train_F1.append(train_f1.tolist())\n",
    "    loss.backward()\n",
    "    optimizer.step()\n",
    "    model.eval()\n",
    "    # Valid\n",
    "    with torch.no_grad():\n",
    "        val_loss, y_valid, _ = model.forward(A, node_features, valid_node, valid_target)\n",
    "        val_f1 = torch.mean(\n",
    "            f1_score(torch.argmax(y_valid, dim=1), valid_target, num_classes=num_classes)).cpu().numpy()\n",
    "        print('Valid - Loss: {}, Macro_F1: {}'.format(val_loss.detach().cpu().numpy(), val_f1))\n",
    "        Valid_Loss.append(val_loss.item())\n",
    "        Valid_F1.append(val_f1.tolist())\n",
    "        test_loss, y_test, W = model.forward(A, node_features, test_node, test_target)\n",
    "        test_f1 = torch.mean(\n",
    "            f1_score(torch.argmax(y_test, dim=1), test_target, num_classes=num_classes)).cpu().numpy()\n",
    "        print('Test - Loss: {}, Macro_F1: {}'.format(test_loss.detach().cpu().numpy(), test_f1))\n",
    "        Test_Loss.append(test_loss.item())\n",
    "        Test_F1.append(test_f1.tolist())\n",
    "    print('Epoch {} takes time: {}\\n'.format(i+1, time_since(start)))\n",
    "    if val_f1 > best_val_f1:\n",
    "        best_val_loss = val_loss.detach().cpu().numpy()\n",
    "        best_test_loss = test_loss.detach().cpu().numpy()\n",
    "        best_train_loss = loss.detach().cpu().numpy()\n",
    "        best_train_f1 = train_f1\n",
    "        best_val_f1 = val_f1\n",
    "        best_test_f1 = test_f1\n",
    "print('---------------Best Results--------------------')\n",
    "print('Train - Loss: {}, Macro_F1: {}'.format(best_train_loss, best_train_f1))\n",
    "print('Valid - Loss: {}, Macro_F1: {}'.format(best_val_loss, best_val_f1))\n",
    "print('Test - Loss: {}, Macro_F1: {}'.format(best_test_loss, best_test_f1))\n",
    "final_f1 += best_test_f1"
   ]
  },
  {
   "cell_type": "code",
   "execution_count": 12,
   "metadata": {},
   "outputs": [
    {
     "name": "stdout",
     "output_type": "stream",
     "text": [
      "0.9239614009857178\n"
     ]
    }
   ],
   "source": [
    "print(final_f1)"
   ]
  },
  {
   "cell_type": "code",
   "execution_count": 13,
   "metadata": {},
   "outputs": [
    {
     "data": {
      "image/png": "[encoded data removed]",
      "text/plain": [
       "<Figure size 432x288 with 1 Axes>"
      ]
     },
     "metadata": {
      "needs_background": "light"
     },
     "output_type": "display_data"
    }
   ],
   "source": [
    "# Loss-Epochs\n",
    "x = np.arange(40)\n",
    "y1 = Train_Loss\n",
    "y2 = Valid_Loss\n",
    "y3 = Test_Loss\n",
    "\n",
    "colors=['green', 'blue', 'red']\n",
    "plt.gca().set_prop_cycle(color=colors)\n",
    "\n",
    "plt.plot(x,y1,label=\"Train\")\n",
    "plt.plot(x,y2,label=\"Valid\")\n",
    "plt.plot(x,y3,label=\"Test\")\n",
    "\n",
    "plt.title(\"Variation of Loss with the number of Epochs\",fontsize=15)\n",
    "plt.xlabel(\"Epochs\",fontsize=13)\n",
    "plt.ylabel(\"Loss\",fontsize=13)\n",
    "plt.legend()\n",
    "plt.show()"
   ]
  },
  {
   "cell_type": "code",
   "execution_count": 17,
   "metadata": {},
   "outputs": [
    {
     "data": {
      "image/png": "[encoded data removed]",
      "text/plain": [
       "<Figure size 432x288 with 1 Axes>"
      ]
     },
     "metadata": {
      "needs_background": "light"
     },
     "output_type": "display_data"
    }
   ],
   "source": [
    "# F1-Epochs\n",
    "x = np.arange(40)\n",
    "y4 = Train_F1\n",
    "y5 = Valid_F1\n",
    "y6 = Test_F1\n",
    "\n",
    "colors=['green', 'blue', 'red']\n",
    "plt.gca().set_prop_cycle(color=colors)\n",
    "\n",
    "plt.plot(x,y4,label=\"Train\")\n",
    "plt.plot(x,y5,label=\"Valid\")\n",
    "plt.plot(x,y6,label=\"Test\")\n",
    "\n",
    "plt.title(\"Variation of F1-score with the number of Epochs\",fontsize=15)\n",
    "plt.xlabel(\"Epochs\",fontsize=13)\n",
    "plt.ylabel(\"F1-score\",fontsize=13)\n",
    "plt.legend()\n",
    "plt.show()"
   ]
  },
  {
   "cell_type": "code",
   "execution_count": 18,
   "metadata": {},
   "outputs": [],
   "source": [
    "torch.save(model.state_dict(), 'GTN_model_0503.pt') # save the model"
   ]
  }
 ],
 "metadata": {
  "kernelspec": {
   "display_name": "Python 3 (ipykernel)",
   "language": "python",
   "name": "python3"
  },
  "language_info": {
   "codemirror_mode": {
    "name": "ipython",
    "version": 3
   },
   "file_extension": ".py",
   "mimetype": "text/x-python",
   "name": "python",
   "nbconvert_exporter": "python",
   "pygments_lexer": "ipython3",
   "version": "3.9.7"
  },
  "toc": {
   "base_numbering": 1,
   "nav_menu": {
    "height": "82px",
    "width": "160px"
   },
   "number_sections": true,
   "sideBar": true,
   "skip_h1_title": false,
   "title_cell": "Table of Contents",
   "title_sidebar": "Contents",
   "toc_cell": false,
   "toc_position": {},
   "toc_section_display": true,
   "toc_window_display": false
  },
  "varInspector": {
   "cols": {
    "lenName": 16,
    "lenType": 16,
    "lenVar": 40
   },
   "kernels_config": {
    "python": {
     "delete_cmd_postfix": "",
     "delete_cmd_prefix": "del ",
     "library": "var_list.py",
     "varRefreshCmd": "print(var_dic_list())"
    },
    "r": {
     "delete_cmd_postfix": ") ",
     "delete_cmd_prefix": "rm(",
     "library": "var_list.r",
     "varRefreshCmd": "cat(var_dic_list()) "
    }
   },
   "types_to_exclude": [
    "module",
    "function",
    "builtin_function_or_method",
    "instance",
    "_Feature"
   ],
   "window_display": false
  }
 },
 "nbformat": 4,
 "nbformat_minor": 1
}
